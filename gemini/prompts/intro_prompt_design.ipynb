{
  "cells": [
    {
      "cell_type": "code",
      "execution_count": null,
      "metadata": {
        "id": "ur8xi4C7S06n"
      },
      "outputs": [],
      "source": [
        "# Copyright 2024 Google LLC\n",
        "#\n",
        "# Licensed under the Apache License, Version 2.0 (the \"License\");\n",
        "# you may not use this file except in compliance with the License.\n",
        "# You may obtain a copy of the License at\n",
        "#\n",
        "#     https://www.apache.org/licenses/LICENSE-2.0\n",
        "#\n",
        "# Unless required by applicable law or agreed to in writing, software\n",
        "# distributed under the License is distributed on an \"AS IS\" BASIS,\n",
        "# WITHOUT WARRANTIES OR CONDITIONS OF ANY KIND, either express or implied.\n",
        "# See the License for the specific language governing permissions and\n",
        "# limitations under the License."
      ]
    },
    {
      "cell_type": "markdown",
      "metadata": {
        "id": "JAPoU8Sm5E6e"
      },
      "source": [
        "# Prompt Design - Best Practices\n",
        "\n",
        "<table align=\"left\">\n",
        "  <td style=\"text-align: center\">\n",
        "    <a href=\"https://colab.research.google.com/github/GoogleCloudPlatform/generative-ai/blob/main/gemini/prompts/intro_prompt_design.ipynb\">\n",
        "      <img src=\"https://cloud.google.com/ml-engine/images/colab-logo-32px.png\" alt=\"Google Colaboratory logo\"><br> Open in Colab\n",
        "    </a>\n",
        "  </td>\n",
        "  <td style=\"text-align: center\">\n",
        "    <a href=\"https://console.cloud.google.com/vertex-ai/colab/import/https:%2F%2Fraw.githubusercontent.com%2FGoogleCloudPlatform%2Fgenerative-ai%2Fmain%2Fgemini%2Fprompts%2Fintro_prompt_design.ipynb\">\n",
        "      <img width=\"32px\" src=\"https://lh3.googleusercontent.com/JmcxdQi-qOpctIvWKgPtrzZdJJK-J3sWE1RsfjZNwshCFgE_9fULcNpuXYTilIR2hjwN\" alt=\"Google Cloud Colab Enterprise logo\"><br> Open in Colab Enterprise\n",
        "    </a>\n",
        "  </td>    \n",
        "  <td style=\"text-align: center\">\n",
        "    <a href=\"https://console.cloud.google.com/vertex-ai/workbench/deploy-notebook?download_url=https://raw.githubusercontent.com/GoogleCloudPlatform/generative-ai/main/gemini/prompts/intro_prompt_design.ipynb\">\n",
        "      <img src=\"https://lh3.googleusercontent.com/UiNooY4LUgW_oTvpsNhPpQzsstV5W8F7rYgxgGBD85cWJoLmrOzhVs_ksK_vgx40SHs7jCqkTkCk=e14-rj-sc0xffffff-h130-w32\" alt=\"Vertex AI logo\"><br> Open in Workbench\n",
        "    </a>\n",
        "  </td>\n",
        "  <td style=\"text-align: center\">\n",
        "    <a href=\"https://github.com/GoogleCloudPlatform/generative-ai/blob/main/gemini/prompts/intro_prompt_design.ipynb\">\n",
        "      <img src=\"https://cloud.google.com/ml-engine/images/github-logo-32px.png\" alt=\"GitHub logo\"><br> View on GitHub\n",
        "    </a>\n",
        "  </td>\n",
        "  <td style=\"text-align: center\">\n",
        "    <a href=\"https://goo.gle/4fWHlze\">\n",
        "      <img width=\"32px\" src=\"https://cdn.qwiklabs.com/assets/gcp_cloud-e3a77215f0b8bfa9b3f611c0d2208c7e8708ed31.svg\" alt=\"Google Cloud logo\"><br> Open in  Cloud Skills Boost\n",
        "    </a>\n",
        "  </td>\n",
        "</table>\n",
        "\n",
        "<div style=\"clear: both;\"></div>\n",
        "\n",
        "<b>Share to:</b>\n",
        "\n",
        "<a href=\"https://www.linkedin.com/sharing/share-offsite/?url=https%3A//github.com/GoogleCloudPlatform/generative-ai/blob/main/gemini/prompts/intro_prompt_design.ipynb\" target=\"_blank\">\n",
        "  <img width=\"20px\" src=\"https://upload.wikimedia.org/wikipedia/commons/8/81/LinkedIn_icon.svg\" alt=\"LinkedIn logo\">\n",
        "</a>\n",
        "\n",
        "<a href=\"https://bsky.app/intent/compose?text=https%3A//github.com/GoogleCloudPlatform/generative-ai/blob/main/gemini/prompts/intro_prompt_design.ipynb\" target=\"_blank\">\n",
        "  <img width=\"20px\" src=\"https://upload.wikimedia.org/wikipedia/commons/7/7a/Bluesky_Logo.svg\" alt=\"Bluesky logo\">\n",
        "</a>\n",
        "\n",
        "<a href=\"https://twitter.com/intent/tweet?url=https%3A//github.com/GoogleCloudPlatform/generative-ai/blob/main/gemini/prompts/intro_prompt_design.ipynb\" target=\"_blank\">\n",
        "  <img width=\"20px\" src=\"https://upload.wikimedia.org/wikipedia/commons/5/5a/X_icon_2.svg\" alt=\"X logo\">\n",
        "</a>\n",
        "\n",
        "<a href=\"https://reddit.com/submit?url=https%3A//github.com/GoogleCloudPlatform/generative-ai/blob/main/gemini/prompts/intro_prompt_design.ipynb\" target=\"_blank\">\n",
        "  <img width=\"20px\" src=\"https://redditinc.com/hubfs/Reddit%20Inc/Brand/Reddit_Logo.png\" alt=\"Reddit logo\">\n",
        "</a>\n",
        "\n",
        "<a href=\"https://www.facebook.com/sharer/sharer.php?u=https%3A//github.com/GoogleCloudPlatform/generative-ai/blob/main/gemini/prompts/intro_prompt_design.ipynb\" target=\"_blank\">\n",
        "  <img width=\"20px\" src=\"https://upload.wikimedia.org/wikipedia/commons/5/51/Facebook_f_logo_%282019%29.svg\" alt=\"Facebook logo\">\n",
        "</a>            "
      ]
    },
    {
      "cell_type": "markdown",
      "metadata": {
        "id": "84f0f73a0f76"
      },
      "source": [
        "| Authors |\n",
        "| --- |\n",
        "| [Polong Lin](https://github.com/polong-lin) |\n",
        "| [Karl Weinmeister](https://github.com/kweinmeister) |"
      ]
    },
    {
      "cell_type": "markdown",
      "metadata": {
        "id": "tvgnzT1CKxrO"
      },
      "source": [
        "## Overview\n",
        "\n",
        "This notebook covers the essentials of prompt engineering, including some best practices.\n",
        "\n",
        "Learn more about prompt design in the [official documentation](https://cloud.google.com/vertex-ai/docs/generative-ai/text/text-overview).\n",
        "\n",
        "In this notebook, you learn best practices around prompt engineering -- how to design prompts to improve the quality of your responses.\n",
        "\n",
        "This notebook covers the following best practices for prompt engineering:\n",
        "\n",
        "- Be concise\n",
        "- Be specific and well-defined\n",
        "- Ask one task at a time\n",
        "- Turn generative tasks into classification tasks\n",
        "- Improve response quality by including examples"
      ]
    },
    {
      "cell_type": "markdown",
      "metadata": {
        "id": "61RBz8LLbxCR"
      },
      "source": [
        "## Getting Started"
      ]
    },
    {
      "cell_type": "markdown",
      "metadata": {
        "id": "No17Cw5hgx12"
      },
      "source": [
        "### Install Google Gen AI SDK\n"
      ]
    },
    {
      "cell_type": "code",
      "execution_count": 1,
      "metadata": {
        "id": "tFy3H3aPgx12",
        "colab": {
          "base_uri": "https://localhost:8080/"
        },
        "outputId": "471bae29-a121-4540-8778-99bd6675c866"
      },
      "outputs": [
        {
          "output_type": "stream",
          "name": "stdout",
          "text": [
            "\u001b[?25l   \u001b[90m━━━━━━━━━━━━━━━━━━━━━━━━━━━━━━━━━━━━━━━━\u001b[0m \u001b[32m0.0/196.3 kB\u001b[0m \u001b[31m?\u001b[0m eta \u001b[36m-:--:--\u001b[0m\r\u001b[2K   \u001b[90m━━━━━━━━━━━━━━━━━━━━━━━━━━━━━━━━━━━━━━━━\u001b[0m \u001b[32m196.3/196.3 kB\u001b[0m \u001b[31m7.1 MB/s\u001b[0m eta \u001b[36m0:00:00\u001b[0m\n",
            "\u001b[?25h"
          ]
        }
      ],
      "source": [
        "%pip install --upgrade --quiet google-genai"
      ]
    },
    {
      "cell_type": "markdown",
      "metadata": {
        "id": "dmWOrTJ3gx13"
      },
      "source": [
        "### Authenticate your notebook environment (Colab only)\n",
        "\n",
        "Authenticate your environment on Google Colab.\n"
      ]
    },
    {
      "cell_type": "code",
      "execution_count": 2,
      "metadata": {
        "id": "NyKGtVQjgx13"
      },
      "outputs": [],
      "source": [
        "import sys\n",
        "\n",
        "if \"google.colab\" in sys.modules:\n",
        "    from google.colab import auth\n",
        "\n",
        "    auth.authenticate_user()"
      ]
    },
    {
      "cell_type": "markdown",
      "metadata": {
        "id": "06489bd14f16"
      },
      "source": [
        "### Import libraries\n"
      ]
    },
    {
      "cell_type": "code",
      "execution_count": 3,
      "metadata": {
        "id": "154137022fb6"
      },
      "outputs": [],
      "source": [
        "from IPython.display import Markdown, display\n",
        "from google import genai\n",
        "from google.genai.types import GenerateContentConfig"
      ]
    },
    {
      "cell_type": "markdown",
      "metadata": {
        "id": "DF4l8DTdWgPY"
      },
      "source": [
        "### Set Google Cloud project information and create client\n",
        "\n",
        "To get started using Vertex AI, you must have an existing Google Cloud project and [enable the Vertex AI API](https://console.cloud.google.com/flows/enableapi?apiid=aiplatform.googleapis.com).\n",
        "\n",
        "Learn more about [setting up a project and a development environment](https://cloud.google.com/vertex-ai/docs/start/cloud-environment)."
      ]
    },
    {
      "cell_type": "code",
      "execution_count": 4,
      "metadata": {
        "id": "Nqwi-5ufWp_B"
      },
      "outputs": [],
      "source": [
        "import os\n",
        "\n",
        "PROJECT_ID = \"zsh-studio\"  # @param {type: \"string\", placeholder: \"[your-project-id]\", isTemplate: true}\n",
        "if not PROJECT_ID or PROJECT_ID == \"[your-project-id]\":\n",
        "    PROJECT_ID = str(os.environ.get(\"GOOGLE_CLOUD_PROJECT\"))\n",
        "\n",
        "LOCATION = os.environ.get(\"GOOGLE_CLOUD_REGION\", \"us-central1\")"
      ]
    },
    {
      "cell_type": "code",
      "execution_count": 5,
      "metadata": {
        "id": "QqRWdPGmW3NJ"
      },
      "outputs": [],
      "source": [
        "client = genai.Client(vertexai=True, project=PROJECT_ID, location=LOCATION)"
      ]
    },
    {
      "cell_type": "markdown",
      "metadata": {
        "id": "OnFPpCRtXRl4"
      },
      "source": [
        "### Load model\n",
        "\n",
        "Learn more about all [Gemini models on Vertex AI](https://cloud.google.com/vertex-ai/generative-ai/docs/learn/models#gemini-models)."
      ]
    },
    {
      "cell_type": "code",
      "execution_count": 6,
      "metadata": {
        "id": "IQYu_9SvXQah"
      },
      "outputs": [],
      "source": [
        "MODEL_ID = \"gemini-2.0-flash-001\"  # @param {type: \"string\"}"
      ]
    },
    {
      "cell_type": "markdown",
      "metadata": {
        "id": "cVOtUNJ5X0PY"
      },
      "source": [
        "## Prompt engineering best practices"
      ]
    },
    {
      "cell_type": "markdown",
      "metadata": {
        "id": "uv_e0fEPX60q"
      },
      "source": [
        "Prompt engineering is all about how to design your prompts so that the response is what you were indeed hoping to see.\n",
        "\n",
        "The idea of using \"unfancy\" prompts is to minimize the noise in your prompt to reduce the possibility of the LLM misinterpreting the intent of the prompt. Below are a few guidelines on how to engineer \"unfancy\" prompts.\n",
        "\n",
        "In this section, you'll cover the following best practices when engineering prompts:\n",
        "\n",
        "* Be concise\n",
        "* Be specific, and well-defined\n",
        "* Ask one task at a time\n",
        "* Improve response quality by including examples\n",
        "* Turn generative tasks to classification tasks to improve safety"
      ]
    },
    {
      "cell_type": "markdown",
      "metadata": {
        "id": "0pY4XX0OX9_Y"
      },
      "source": [
        "### Be concise"
      ]
    },
    {
      "cell_type": "markdown",
      "metadata": {
        "id": "xlRpxyxGYA1K"
      },
      "source": [
        "🛑 Not recommended. The prompt below is unnecessarily verbose."
      ]
    },
    {
      "cell_type": "code",
      "execution_count": 7,
      "metadata": {
        "id": "YKV4G-CfXdbi",
        "colab": {
          "base_uri": "https://localhost:8080/",
          "height": 633
        },
        "outputId": "6cf03072-abb5-43ba-f29a-e5d400af85d7"
      },
      "outputs": [
        {
          "output_type": "display_data",
          "data": {
            "text/plain": [
              "<IPython.core.display.Markdown object>"
            ],
            "text/markdown": "Okay, here are some name ideas for a dried flower shop, playing on different aspects of dried flowers:\n\n**Focusing on Longevity & Timelessness:**\n\n*   **Lasting Blooms:** Simple, clear, and emphasizes the long life of dried flowers.\n*   **The Everbloom:** Evokes a sense of perpetual beauty.\n*   **Timeless Petals:** Elegant and classic.\n*   **Forever Flora:**  Straightforward and memorable.\n*   **Preserved Posies:**  Cute and alliterative.\n*   **Golden Harvest Florals:** If the shop has a rustic/farm-style aesthetic.\n\n**Focusing on the Art & Craft:**\n\n*   **The Dried Dahlia:** (Or other impactful dried flower) - Specific, feels artisanal.\n*   **Petal & Pine:**  If you incorporate pine cones or other natural elements.\n*   **The Still Life Studio:**  Elevated, artistic feel.\n*   **Floral Alchemy:**  Suggests transformation and skill.\n*   **The Dried Flower Collective:**  If you feature work from multiple artisans.\n\n**Focusing on Texture & Beauty:**\n\n*   **Whispering Wildflowers:**  Romantic and evocative.\n*   **Golden Fields Florals:**  Creates a sense of warm, natural beauty.\n*   **The Paper Petal:** Highlights the delicate, papery texture.\n*   **Ethereal Blooms:** Suggests a delicate and otherworldly beauty.\n\n**Modern & Unique:**\n\n*   **Xeranthemum:** (The name of a specific dried flower) - Unique and memorable.\n*   **Flora Obscura:**  Intriguing and mysterious.\n*   **The Dried Edit:**  Modern and curated.\n*   **Remnant Blooms:**  A bit edgy and unique.\n\n**Tips for Choosing:**\n\n*   **Check Availability:** Make sure the name isn't already in use by another flower shop in your area (or online if you plan to sell online).  Also, check for available domain names and social media handles.\n*   **Say it Aloud:**  How does it sound? Is it easy to pronounce and remember?\n*   **Consider Your Brand:** Does the name reflect the overall style and aesthetic of your shop?  Think about your target audience.\n*   **Get Feedback:** Ask friends, family, or potential customers for their opinions on your top choices.\n\nI hope this helps! Let me know if you want more suggestions based on a specific style or theme you have in mind. Good luck!\n"
          },
          "metadata": {}
        }
      ],
      "source": [
        "prompt = \"What do you think could be a good name for a flower shop that specializes in selling bouquets of dried flowers more than fresh flowers?\"\n",
        "\n",
        "response = client.models.generate_content(model=MODEL_ID, contents=prompt)\n",
        "display(Markdown(response.text))"
      ]
    },
    {
      "cell_type": "markdown",
      "metadata": {
        "id": "YrJexRHJYnmC"
      },
      "source": [
        "✅ Recommended. The prompt below is to the point and concise."
      ]
    },
    {
      "cell_type": "code",
      "execution_count": 8,
      "metadata": {
        "id": "VHetn9lCYrXB",
        "colab": {
          "base_uri": "https://localhost:8080/",
          "height": 755
        },
        "outputId": "2543a343-90c5-4cc0-e03b-3b381f65cbb5"
      },
      "outputs": [
        {
          "output_type": "display_data",
          "data": {
            "text/plain": [
              "<IPython.core.display.Markdown object>"
            ],
            "text/markdown": "Okay, here are some name suggestions for a dried flower shop, playing with different angles like:\n\n**Emphasizing the Dried/Preserved Aspect:**\n\n*   **The Everbloom Studio**\n*   **Lasting Petals**\n*   **Eternal Blooms**\n*   **Preserved Posies**\n*   **The Dried Dahlia**\n*   **Golden Stems**\n*   **Immortelle Floral** (Immortelle is a type of flower known for drying well)\n*   **Anthos Preserved** (Anthos is Greek for flower)\n*   **Petrified Petals** (A little edgy, depending on your style)\n\n**Focusing on Beauty and Artistry:**\n\n*   **The Still Life Florist**\n*   **Botanical Artistry**\n*   **Petrified Poetry**\n*   **The Dried Bouquet**\n*   **Floral Alchemy**\n*   **Golden Fields Floral**\n*   **Woven Blooms**\n*   **The Floral Archive**\n\n**Whimsical and Unique Names:**\n\n*   **The Petal Alchemist**\n*   **Whispering Stems**\n*   **The Timeless Bloom**\n*   **Fable Flora**\n*   **Once Upon a Bloom**\n*   **The Gilded Poppy**\n*   **Stardust & Stems**\n\n**Location-Based (If Applicable):**\n\n*   **[Town/Area Name] Dried Flowers**\n*   **The [Street Name] Florist**\n*   **[Landmark] Blooms**\n\n**Tips for Choosing:**\n\n*   **Say it Out Loud:** Make sure it sounds good and is easy to pronounce.\n*   **Check Availability:** See if the name and related domain name/social media handles are available.\n*   **Consider Your Target Audience:**  Does the name appeal to the aesthetic you're going for?\n*   **Keep it Short and Memorable:** Easier to recall and share.\n\nI hope this gives you a good starting point! Let me know if you'd like more suggestions based on a specific vibe you're aiming for. Good luck!\n"
          },
          "metadata": {}
        }
      ],
      "source": [
        "prompt = \"Suggest a name for a flower shop that sells bouquets of dried flowers\"\n",
        "\n",
        "response = client.models.generate_content(model=MODEL_ID, contents=prompt)\n",
        "display(Markdown(response.text))"
      ]
    },
    {
      "cell_type": "markdown",
      "metadata": {
        "id": "eXTAvdOHY0OC"
      },
      "source": [
        "### Be specific, and well-defined"
      ]
    },
    {
      "cell_type": "markdown",
      "metadata": {
        "id": "FTH4GEIgY1dp"
      },
      "source": [
        "Suppose that you want to brainstorm creative ways to describe Earth."
      ]
    },
    {
      "cell_type": "markdown",
      "metadata": {
        "id": "o5BmXBiGY4KC"
      },
      "source": [
        "🛑 The prompt below might be a bit too generic (which is certainly OK if you'd like to ask a generic question!)"
      ]
    },
    {
      "cell_type": "code",
      "execution_count": 9,
      "metadata": {
        "id": "eHBaMvv7Y6mR",
        "colab": {
          "base_uri": "https://localhost:8080/",
          "height": 1000
        },
        "outputId": "981bb7b6-fb32-4412-d230-1e5d2138227a"
      },
      "outputs": [
        {
          "output_type": "display_data",
          "data": {
            "text/plain": [
              "<IPython.core.display.Markdown object>"
            ],
            "text/markdown": "Okay, let's talk about Earth! Here's a breakdown of what makes our planet so special:\n\n**Basic Facts:**\n\n*   **Name:** Earth (The only planet in our solar system not named after a Greek or Roman deity.)\n*   **Planet Type:** Terrestrial (rocky)\n*   **Location:** 3rd planet from the Sun in our Solar System\n*   **Size:** The largest of the inner, rocky planets.\n    *   Diameter: Roughly 12,742 kilometers (7,918 miles)\n*   **Age:** Approximately 4.54 billion years old\n*   **Orbital Period:** 365.25 days (This is why we have leap years!)\n*   **Rotation Period:** Roughly 24 hours (23 hours, 56 minutes, 4 seconds to be precise)\n*   **Natural Satellite:** One moon (Luna)\n\n**Key Features and Characteristics:**\n\n*   **Life:** Earth is the only known planet to harbor life. This is due to a combination of factors, including:\n    *   **Liquid Water:** Earth has abundant liquid water on its surface, which is essential for all known forms of life.\n    *   **Atmosphere:** Earth's atmosphere is composed mainly of nitrogen (about 78%) and oxygen (about 21%), with smaller amounts of other gases like argon, carbon dioxide, and trace gases. This atmosphere protects us from harmful solar radiation and helps regulate temperature.\n    *   **Temperature:** Earth's distance from the sun, combined with its atmosphere, allows for a temperature range that is conducive to liquid water and life.\n    *   **Magnetic Field:** Generated by the movement of molten iron in Earth's outer core, the magnetic field protects us from harmful solar wind.\n\n*   **Structure:** Earth is composed of several layers:\n    *   **Crust:** The outermost solid layer, made up of rocks and minerals. It's divided into tectonic plates that float on the mantle.\n    *   **Mantle:** A thick, mostly solid layer beneath the crust. It's made up of silicate rocks rich in iron and magnesium. The upper mantle is partially molten.\n    *   **Outer Core:** A liquid layer composed mostly of iron and nickel. The movement of this liquid metal generates Earth's magnetic field.\n    *   **Inner Core:** A solid sphere of iron and nickel at the center of the Earth. It's under immense pressure and temperature.\n\n*   **Plate Tectonics:** Earth's crust is divided into several large and small tectonic plates that are constantly moving. This movement causes:\n    *   **Earthquakes:** Sudden releases of energy in the Earth's crust.\n    *   **Volcanoes:** Openings in the Earth's crust where molten rock (magma) erupts.\n    *   **Mountain Building:** The collision of tectonic plates can create mountain ranges.\n    *   **Continental Drift:** The slow movement of continents over millions of years.\n\n*   **Surface Features:**\n    *   **Oceans:** Cover approximately 71% of Earth's surface. They play a crucial role in regulating climate and supporting marine life.\n    *   **Continents:** Large landmasses that make up about 29% of Earth's surface.\n    *   **Mountains:** Elevated landforms formed by tectonic activity.\n    *   **Valleys:** Depressions in the Earth's surface.\n    *   **Deserts:** Arid regions with little rainfall.\n    *   **Ice Caps and Glaciers:** Large bodies of ice found at the poles and in high mountain regions.\n\n*   **Atmosphere:**\n    *   **Troposphere:** The lowest layer, where weather occurs.\n    *   **Stratosphere:** Contains the ozone layer, which absorbs harmful UV radiation.\n    *   **Mesosphere:** Burns up most meteors.\n    *   **Thermosphere:** Where the International Space Station orbits.\n    *   **Exosphere:** The outermost layer, gradually fading into space.\n\n*   **Water Cycle:** The continuous movement of water between the oceans, atmosphere, and land through evaporation, condensation, and precipitation.\n\n*   **Seasons:** Caused by the Earth's axial tilt of 23.5 degrees relative to its orbit around the Sun. This tilt causes different parts of the Earth to receive more direct sunlight at different times of the year.\n\n**Why is Earth Unique?**\n\n*   **Habitability:** As mentioned before, the presence of liquid water, a suitable atmosphere, and a stable temperature make Earth uniquely habitable.\n*   **Biodiversity:** Earth boasts an incredible diversity of life forms, from microscopic bacteria to giant whales.\n*   **Complexity:** The interactions between Earth's various systems (atmosphere, oceans, land, life) are incredibly complex and create a dynamic and ever-changing environment.\n\n**Ongoing Changes and Challenges:**\n\n*   **Climate Change:**  The increasing concentration of greenhouse gases in the atmosphere is causing the planet to warm, leading to rising sea levels, more extreme weather events, and disruptions to ecosystems.\n*   **Pollution:** Air, water, and land pollution are major threats to human health and the environment.\n*   **Deforestation:** The clearing of forests for agriculture and other purposes contributes to climate change and habitat loss.\n*   **Biodiversity Loss:**  Species are going extinct at an alarming rate due to habitat destruction, climate change, and other human activities.\n\n**In Conclusion:**\n\nEarth is a remarkable and complex planet that is home to an incredible diversity of life. Understanding our planet's systems, its history, and the challenges it faces is crucial for ensuring a sustainable future for ourselves and for all life on Earth.\n\nDo you have any specific questions about Earth that you'd like me to answer in more detail? For example, are you interested in:\n\n*   A specific geological feature (like the Grand Canyon)?\n*   The history of life on Earth?\n*   A particular environmental issue?\n*   Earth's place in the solar system?\n*   Earth's future?\n\nJust let me know what you'd like to learn more about!\n"
          },
          "metadata": {}
        }
      ],
      "source": [
        "prompt = \"Tell me about Earth\"\n",
        "\n",
        "response = client.models.generate_content(model=MODEL_ID, contents=prompt)\n",
        "display(Markdown(response.text))"
      ]
    },
    {
      "cell_type": "markdown",
      "metadata": {
        "id": "4iyvEbteZnFL"
      },
      "source": [
        "✅ Recommended. The prompt below is specific and well-defined."
      ]
    },
    {
      "cell_type": "code",
      "execution_count": 10,
      "metadata": {
        "id": "JQ80z8urZnne",
        "colab": {
          "base_uri": "https://localhost:8080/",
          "height": 748
        },
        "outputId": "9da247ce-9b16-44f2-df5c-2b06ae22a5f9"
      },
      "outputs": [
        {
          "output_type": "display_data",
          "data": {
            "text/plain": [
              "<IPython.core.display.Markdown object>"
            ],
            "text/markdown": "Okay, here's a list of features that make Earth unique compared to other known planets, focusing on things that are either entirely unique or present in a unique combination/degree:\n\n**Key & Defining Features:**\n\n*   **Liquid Water on the Surface:**  This is the most obvious and arguably most important.  While water ice is found elsewhere, stable liquid water covering a significant portion of the planet's surface is unique to Earth within our solar system and as far as we've observed exoplanets.  This allows for the chemistry needed for life as we know it.\n*   **Life:** As far as we know, Earth is the only planet with life.\n*   **Oxygen-Rich Atmosphere:**  While trace amounts of oxygen may exist elsewhere, Earth's atmosphere is unique for being dominated by nitrogen and oxygen (around 21%). This oxygen is largely biogenic, produced by photosynthetic organisms.\n*   **Plate Tectonics:** Earth's lithosphere is divided into plates that move and interact, leading to continental drift, mountain building, volcanism, and earthquakes. Plate tectonics is crucial for the carbon cycle, which helps regulate Earth's temperature. While some evidence suggests limited plate tectonics on other bodies, Earth's active and global system is distinct.\n*   **Strong Magnetic Field:** Generated by the movement of molten iron in Earth's outer core, the magnetic field deflects harmful solar wind and cosmic radiation, protecting the atmosphere and life. While other planets have magnetic fields, Earth's is relatively strong and stable.\n*   **Complex and Interconnected Ecosystems:** The diversity of life on Earth has led to complex ecosystems with intricate food webs and nutrient cycles.\n\n**Features that are not strictly unique, but are uniquely combined or expressed on Earth:**\n\n*   **Presence of a Large Moon:**  While other planets have moons, Earth's Moon is unusually large relative to the planet's size. It stabilizes Earth's axial tilt, influencing climate and tides.\n*   **Habitable Temperature Range:** Earth's distance from the sun and its atmosphere create a temperature range that allows for liquid water and complex organic molecules to exist. Other planets may fall within the \"habitable zone,\" but Earth's specific conditions are ideal.\n*   **Geological Activity:** While volcanism exists on other planets and moons, Earth's combination of volcanism, erosion, and tectonic activity constantly reshapes the surface, creating diverse landscapes.\n*   **Abundance of Water:** While water exists as ice or vapor on other bodies, Earth has a unique abundance of water in all three phases (solid, liquid, gas).\n*   **Axial Tilt:** Earth's axial tilt of about 23.5 degrees creates seasons, which drive many of the planet's weather patterns and ecosystems.\n*   **Atmospheric Pressure:** Earth's atmospheric pressure is within a range that allows for liquid water to exist and is not too extreme for life.\n*   **Complex Weather Patterns:** The combination of Earth's atmosphere, oceans, and rotation creates complex weather patterns, including hurricanes, tornadoes, and monsoons.\n*   **A Stratosphere:** Due to the presence of oxygen and ozone in the atmosphere, Earth possesses a stratosphere, which absorbs harmful ultraviolet (UV) radiation from the sun.\n\n**Important Considerations:**\n\n*   **Our Limited Perspective:** We've only thoroughly explored our own solar system and have limited data on exoplanets.  It's possible that other planets with similar or even more unique characteristics exist, but we haven't found them yet.\n*   **Definition of \"Unique\":**  The definition of \"unique\" is subjective. Some features, like volcanism, are not strictly unique but are expressed in a unique way on Earth.\n*   **Changing Conditions:**  Earth's conditions have changed dramatically over its history.  What makes Earth unique now may not have been the case in the distant past.\n\nThis list highlights the key aspects that, as far as we know, distinguish Earth from other known planets. The combination of these factors has allowed life to arise and flourish on our planet.\n"
          },
          "metadata": {}
        }
      ],
      "source": [
        "prompt = \"Generate a list of ways that makes Earth unique compared to other planets\"\n",
        "\n",
        "response = client.models.generate_content(model=MODEL_ID, contents=prompt)\n",
        "display(Markdown(response.text))"
      ]
    },
    {
      "cell_type": "markdown",
      "metadata": {
        "id": "R5kmfZYHZsJ7"
      },
      "source": [
        "### Ask one task at a time"
      ]
    },
    {
      "cell_type": "markdown",
      "metadata": {
        "id": "rsAezxeYZuUN"
      },
      "source": [
        "🛑 Not recommended. The prompt below has two parts to the question that could be asked separately."
      ]
    },
    {
      "cell_type": "code",
      "execution_count": 11,
      "metadata": {
        "id": "ElywPXpuZtWf",
        "colab": {
          "base_uri": "https://localhost:8080/",
          "height": 534
        },
        "outputId": "c0a50210-0eb9-42dc-f228-9f90f48a24ba"
      },
      "outputs": [
        {
          "output_type": "display_data",
          "data": {
            "text/plain": [
              "<IPython.core.display.Markdown object>"
            ],
            "text/markdown": "Let's tackle these two distinct questions separately:\n\n**Best Method of Boiling Water**\n\n\"Best\" is subjective and depends on your priorities:\n\n*   **Fastest:** An **electric kettle** is generally the fastest way to boil water, especially for smaller amounts. They are designed specifically for this purpose and efficiently convert electricity to heat.\n*   **Most Energy Efficient (for small amounts):** Again, an **electric kettle** often wins here because they heat only the water you need and often have auto-shutoff features.\n*   **Most Versatile:** A **stovetop kettle** is versatile. You can use it on gas, electric, or even induction cooktops.\n*   **Most Economical (if you already have it):** A **saucepan on a stovetop** is a good option if you already have a functioning stove and pan.\n*   **Off-Grid/Camping:** A **camping stove** (gas or multi-fuel) or even an **open fire** with a suitable pot are your options.\n\n**Factors to consider:**\n\n*   **Amount of water:** For a cup or two, an electric kettle is excellent. For a large pot, a stovetop might be better.\n*   **Energy source:** Do you have electricity? Gas? Access to firewood?\n*   **Convenience:** Electric kettles are very convenient; stovetops require more monitoring.\n*   **Cost:** A kettle or saucepan has an initial cost, but electricity/gas/wood has ongoing costs.\n\n**Why the Sky is Blue**\n\nThe sky appears blue due to a phenomenon called **Rayleigh scattering**.\n\n*   **Sunlight is made up of all colors.**  Think of a rainbow.\n*   **Sunlight enters the Earth's atmosphere.**\n*   **These light waves hit tiny air molecules** (mostly nitrogen and oxygen).\n*   **Shorter wavelengths of light are scattered more.**  Blue and violet have shorter wavelengths.\n*   **We see mostly blue.** Violet light is scattered even more than blue, but our eyes are more sensitive to blue. Additionally, the sun emits slightly less violet light than blue.\n*   **At sunrise and sunset:** The sunlight has to travel through *much* more of the atmosphere to reach our eyes. This scatters away *most* of the blue light.  The longer wavelengths (red, orange, yellow) are able to pass through more easily, giving us those beautiful colors at dawn and dusk.\n\n**In summary:**  Rayleigh scattering of sunlight by air molecules in the atmosphere preferentially scatters blue light, making the sky appear blue to our eyes.\n"
          },
          "metadata": {}
        }
      ],
      "source": [
        "prompt = \"What's the best method of boiling water and why is the sky blue?\"\n",
        "\n",
        "response = client.models.generate_content(model=MODEL_ID, contents=prompt)\n",
        "display(Markdown(response.text))"
      ]
    },
    {
      "cell_type": "markdown",
      "metadata": {
        "id": "ejzahazBZ8vk"
      },
      "source": [
        "✅ Recommended. The prompts below asks one task a time."
      ]
    },
    {
      "cell_type": "code",
      "execution_count": 12,
      "metadata": {
        "id": "C5ckp2F0Z_Ba",
        "colab": {
          "base_uri": "https://localhost:8080/",
          "height": 1000
        },
        "outputId": "a548e804-175f-4222-9b38-c62a3d6a91bd"
      },
      "outputs": [
        {
          "output_type": "display_data",
          "data": {
            "text/plain": [
              "<IPython.core.display.Markdown object>"
            ],
            "text/markdown": "The \"best\" method of boiling water depends on your priorities and the context. Here's a breakdown of different methods and their pros and cons:\n\n**1. Electric Kettle:**\n\n*   **Pros:**\n    *   **Speed:** Usually the fastest way to boil water, especially if it's a high-wattage kettle.\n    *   **Convenience:** Easy to use, often with automatic shut-off for safety.\n    *   **Energy Efficiency:** Generally more energy-efficient than stovetop methods, as they heat only the water needed.\n    *   **Precision:** Some kettles allow you to set specific temperatures for different types of beverages (e.g., green tea, coffee).\n    *   **Safety:** Usually have automatic shut-off and boil-dry protection.\n*   **Cons:**\n    *   **Requires electricity:** Not suitable for camping or power outages.\n    *   **Can be bulky:** Takes up counter space.\n    *   **Cost:** Generally more expensive than a stovetop kettle.\n    *   **Materials:** Some kettles may contain plastic parts that come into contact with the water, which some people may be concerned about. Look for kettles with stainless steel or glass interiors.\n\n**2. Stovetop Kettle (Whistling Kettle):**\n\n*   **Pros:**\n    *   **Classic and Simple:** Traditional design.\n    *   **No electricity needed:** Works on gas, electric, or induction stoves. Great for power outages.\n    *   **Affordable:** Generally less expensive than electric kettles.\n    *   **Audible signal:** The whistle alerts you when the water is boiling.\n*   **Cons:**\n    *   **Slower than electric kettles:** Takes longer to boil water.\n    *   **Requires attention:** You need to be present to turn off the stove when it whistles to prevent boiling dry.\n    *   **Energy Efficiency:** Less energy-efficient than electric kettles.\n    *   **Can be noisy:** The whistle can be quite loud.\n\n**3. Stovetop Pot (Saucepan):**\n\n*   **Pros:**\n    *   **Versatile:** Can be used for other cooking tasks besides boiling water.\n    *   **Readily available:** Most kitchens have a saucepan.\n    *   **No special equipment needed.**\n*   **Cons:**\n    *   **Slowest method:** Takes the longest time to boil water.\n    *   **Least energy-efficient:** Heats the entire pot as well as the water.\n    *   **Requires constant monitoring:** You need to watch carefully to prevent boiling dry and splashing.\n    *   **No automatic shut-off:** You have to remember to turn off the stove.\n\n**4. Microwave:**\n\n*   **Pros:**\n    *   **Fast (for small amounts):** Can be quick for boiling a single cup of water.\n    *   **Convenient:** Easy to use.\n*   **Cons:**\n    *   **Uneven heating:** Water may superheat (become hotter than its boiling point without actually boiling), which can cause it to erupt violently when disturbed.  **Use caution: Always use a microwave-safe container and stir the water gently before removing it.**\n    *   **Not ideal for large amounts:** Inefficient for boiling larger quantities.\n    *   **Potential for spills:** Boiled water can easily spill over in the microwave.\n    *   **Safety Concerns:** Superheating can be dangerous.\n    *   **Not energy efficient** as it also uses a lot of energy.\n\n**5. Camp Stove/Portable Burner:**\n\n*   **Pros:**\n    *   **Suitable for outdoor use:** Great for camping, hiking, or emergency situations.\n    *   **Various fuel options:** Can use propane, butane, or other fuels.\n*   **Cons:**\n    *   **Can be slower:** Depends on the type of stove and fuel.\n    *   **Requires fuel:** You need to have a supply of fuel on hand.\n    *   **Can be bulky:** Camp stoves can take up space.\n    *   **Ventilation:** Requires proper ventilation, especially if using indoors.\n\n**Summary Table:**\n\n| Method         | Speed      | Convenience | Energy Efficiency | Cost    | Safety | Best For                                       |\n|----------------|------------|-------------|-------------------|---------|--------|-------------------------------------------------|\n| Electric Kettle | Fastest    | Very High    | Highest           | Medium  | High   | Daily use, quickly boiling water for beverages |\n| Stovetop Kettle| Medium     | Medium       | Medium           | Low     | Medium   | Power outages, classic aesthetic                 |\n| Stovetop Pot   | Slowest    | Low         | Lowest            | Low     | Low    | No special equipment needed, large quantities   |\n| Microwave      | Fast (small)| High        | Low              | Low     | Low    | Quickly heating small amounts, individual cups   |\n| Camp Stove     | Variable   | Medium       | Variable          | Medium  | Medium  | Outdoor use, camping, emergency preparedness      |\n\n**Recommendation:**\n\n*   **For everyday use at home:** An **electric kettle** is generally the best option due to its speed, convenience, and energy efficiency.  Choose one with stainless steel or glass interior if you're concerned about plastic.\n*   **For power outages or camping:** A **stovetop kettle** or **camp stove** are good choices.\n*   **For occasional use and small amounts:** A **stovetop pot** or **microwave** can work in a pinch (use caution with the microwave).\n\nUltimately, the \"best\" method is the one that best fits your specific needs and circumstances.  Consider your priorities (speed, convenience, cost, energy efficiency, availability of equipment) when making your choice.\n"
          },
          "metadata": {}
        }
      ],
      "source": [
        "prompt = \"What's the best method of boiling water?\"\n",
        "\n",
        "response = client.models.generate_content(model=MODEL_ID, contents=prompt)\n",
        "display(Markdown(response.text))"
      ]
    },
    {
      "cell_type": "code",
      "execution_count": 13,
      "metadata": {
        "id": "KwUzhud4aA89",
        "colab": {
          "base_uri": "https://localhost:8080/",
          "height": 378
        },
        "outputId": "5b9fde6a-2de3-45f8-eab0-2f83b07c4a8c"
      },
      "outputs": [
        {
          "output_type": "display_data",
          "data": {
            "text/plain": [
              "<IPython.core.display.Markdown object>"
            ],
            "text/markdown": "The sky is blue because of a phenomenon called **Rayleigh scattering**. Here's a breakdown:\n\n*   **Sunlight and Colors:** Sunlight, though it appears white, is actually made up of all the colors of the rainbow. Each color has a different wavelength.\n\n*   **Entering the Atmosphere:** When sunlight enters the Earth's atmosphere, it collides with tiny air molecules (mostly nitrogen and oxygen).\n\n*   **Scattering:** This collision causes the light to scatter in different directions.\n\n*   **Rayleigh Scattering Explained:**\n    *   Rayleigh scattering is more effective at scattering shorter wavelengths of light.\n    *   Blue and violet light have shorter wavelengths than other colors like red and orange.\n\n*   **Why Blue, Not Violet?**\n    *   While violet light is scattered even more than blue, the sun emits less violet light.\n    *   Our eyes are also more sensitive to blue light than violet.\n    *   Some violet light is also absorbed in the upper atmosphere.\n    *   All of these factors combined make the sky appear blue to our eyes.\n\n*   **Sunsets/Sunrises are Red/Orange:** When the sun is low on the horizon (at sunrise or sunset), sunlight has to travel through a much greater distance of atmosphere to reach our eyes. As a result:\n    *   Most of the blue light has been scattered away.\n    *   The longer wavelengths of light (red and orange) are able to pass through the atmosphere and reach our eyes, giving us those beautiful sunset colors."
          },
          "metadata": {}
        }
      ],
      "source": [
        "prompt = \"Why is the sky blue?\"\n",
        "\n",
        "response = client.models.generate_content(model=MODEL_ID, contents=prompt)\n",
        "display(Markdown(response.text))"
      ]
    },
    {
      "cell_type": "markdown",
      "metadata": {
        "id": "PJIL2RTQaGcT"
      },
      "source": [
        "### Watch out for hallucinations"
      ]
    },
    {
      "cell_type": "markdown",
      "metadata": {
        "id": "8Y8kYxrSaHE9"
      },
      "source": [
        "Although LLMs have been trained on a large amount of data, they can generate text containing statements not grounded in truth or reality; these responses from the LLM are often referred to as \"hallucinations\" due to their limited memorization capabilities. Note that simply prompting the LLM to provide a citation isn't a fix to this problem, as there are instances of LLMs providing false or inaccurate citations. Dealing with hallucinations is a fundamental challenge of LLMs and an ongoing research area, so it is important to be cognizant that LLMs may seem to give you confident, correct-sounding statements that are in fact incorrect.\n",
        "\n",
        "Note that if you intend to use LLMs for the creative use cases, hallucinating could actually be quite useful."
      ]
    },
    {
      "cell_type": "markdown",
      "metadata": {
        "id": "8NY5nAGeaJYS"
      },
      "source": [
        "Try the prompt like the one below repeatedly. We set the temperature to `1.0` so that it takes more risks in its choices. It's possible that it may provide an inaccurate, but confident answer."
      ]
    },
    {
      "cell_type": "code",
      "execution_count": 14,
      "metadata": {
        "id": "QALPjEILaM62",
        "colab": {
          "base_uri": "https://localhost:8080/",
          "height": 46
        },
        "outputId": "5e468380-540f-4bc1-8655-9cfd3e35a916"
      },
      "outputs": [
        {
          "output_type": "display_data",
          "data": {
            "text/plain": [
              "<IPython.core.display.Markdown object>"
            ],
            "text/markdown": "I do not have access to real-time information, including the current date. To find out what day it is, please check a calendar or search online.\n"
          },
          "metadata": {}
        }
      ],
      "source": [
        "generation_config = GenerateContentConfig(temperature=1.0)\n",
        "\n",
        "prompt = \"What day is it today?\"\n",
        "\n",
        "response = client.models.generate_content(model=MODEL_ID, contents=prompt)\n",
        "display(Markdown(response.text))"
      ]
    },
    {
      "cell_type": "markdown",
      "metadata": {
        "id": "BRkwzbgRbhKt"
      },
      "source": [
        "Since LLMs do not have access to real-time information without further integrations, you may have noticed it hallucinates what day it is today in some of the outputs."
      ]
    },
    {
      "cell_type": "markdown",
      "metadata": {
        "id": "3c811e310d02"
      },
      "source": [
        "### Using system instructions to guardrail the model from irrelevant responses\n",
        "\n",
        "How can we attempt to reduce the chances of irrelevant responses and hallucinations?\n",
        "\n",
        "One way is to provide the LLM with [system instructions](https://cloud.google.com/vertex-ai/generative-ai/docs/multimodal/send-chat-prompts-gemini#system-instructions).\n",
        "\n",
        "Let's see how system instructions works and how you can use them to reduce hallucinations or irrelevant questions for a travel chatbot.\n",
        "\n",
        "Suppose we ask a simple question about one of Italy's most famous tourist spots."
      ]
    },
    {
      "cell_type": "code",
      "execution_count": 15,
      "metadata": {
        "id": "rB6zJU76biFK",
        "colab": {
          "base_uri": "https://localhost:8080/",
          "height": 46
        },
        "outputId": "0d7b9f7d-e7b0-4bc5-c01a-c0b1cd38c93c"
      },
      "outputs": [
        {
          "output_type": "display_data",
          "data": {
            "text/plain": [
              "<IPython.core.display.Markdown object>"
            ],
            "text/markdown": "The Duomo di Milano, Milan's cathedral, is a must-see for sightseeing!\n"
          },
          "metadata": {}
        }
      ],
      "source": [
        "generation_config = GenerateContentConfig(temperature=1.0)\n",
        "\n",
        "chat = client.chats.create(\n",
        "    model=MODEL_ID,\n",
        "    config=GenerateContentConfig(\n",
        "        system_instruction=[\n",
        "            \"Hello! You are an AI chatbot for a travel web site.\",\n",
        "            \"Your mission is to provide helpful queries for travelers.\",\n",
        "            \"Remember that before you answer a question, you must check to see if it complies with your mission.\",\n",
        "            \"If not, you can say, Sorry I can't answer that question.\",\n",
        "        ]\n",
        "    ),\n",
        ")\n",
        "\n",
        "prompt = \"What is the best place for sightseeing in Milan, Italy?\"\n",
        "\n",
        "response = chat.send_message(prompt)\n",
        "display(Markdown(response.text))"
      ]
    },
    {
      "cell_type": "markdown",
      "metadata": {
        "id": "WZa-Qcf9cF4A"
      },
      "source": [
        "Now let us pretend to be a user asks the chatbot a question\n",
        "\n",
        "1.   List item\n",
        "2.   List item\n",
        "\n",
        "that is unrelated to travel."
      ]
    },
    {
      "cell_type": "code",
      "execution_count": 17,
      "metadata": {
        "id": "AZKBIDr2cGnu",
        "colab": {
          "base_uri": "https://localhost:8080/",
          "height": 46
        },
        "outputId": "35eac683-befd-4198-8d01-a29c857cde3c"
      },
      "outputs": [
        {
          "output_type": "display_data",
          "data": {
            "text/plain": [
              "<IPython.core.display.Markdown object>"
            ],
            "text/markdown": "The Duomo di Milano, Milan's cathedral, is a must-see!\n"
          },
          "metadata": {}
        }
      ],
      "source": [
        "prompt = \"What is the best place for sightseeing in Milan, Italy?\"\n",
        "\n",
        "response = chat.send_message(prompt)\n",
        "display(Markdown(response.text))"
      ]
    },
    {
      "cell_type": "markdown",
      "metadata": {
        "id": "JiUYIhwpctCy"
      },
      "source": [
        "You can see that this way, a guardrail in the prompt prevented the chatbot from veering off course."
      ]
    },
    {
      "cell_type": "markdown",
      "metadata": {
        "id": "ZuuDhA37cvmP"
      },
      "source": [
        "### Turn generative tasks into classification tasks to reduce output variability"
      ]
    },
    {
      "cell_type": "markdown",
      "metadata": {
        "id": "kUCUrsUzczmb"
      },
      "source": [
        "#### Generative tasks lead to higher output variability"
      ]
    },
    {
      "cell_type": "markdown",
      "metadata": {
        "id": "a1xASHAkc46n"
      },
      "source": [
        "The prompt below results in an open-ended response, useful for brainstorming, but response is highly variable."
      ]
    },
    {
      "cell_type": "code",
      "execution_count": 18,
      "metadata": {
        "id": "nPfXQWIacwRf",
        "colab": {
          "base_uri": "https://localhost:8080/",
          "height": 1000
        },
        "outputId": "f7244850-6b79-4ae0-ca4a-dff7aec77b23"
      },
      "outputs": [
        {
          "output_type": "display_data",
          "data": {
            "text/plain": [
              "<IPython.core.display.Markdown object>"
            ],
            "text/markdown": "Okay, since you're a high school student, I'll recommend a programming activity that's engaging, achievable, and helps you build practical skills. I'm going to suggest building a **text-based adventure game**.  Here's why this is a great choice and how to approach it:\n\n**Why a Text-Based Adventure Game is a Good Choice:**\n\n*   **Beginner-Friendly, Scalable Challenge:** You can start with a very simple game and gradually add complexity as you improve.\n*   **Logical Thinking:** It forces you to think about game logic, flow, and how different parts of the game interact.\n*   **Data Structures & Algorithms:** You'll naturally use (or learn) things like lists, dictionaries (or objects, if you're learning OOP), conditional statements, loops, and functions.\n*   **Creativity:** You get to be creative with the story, the setting, and the puzzles.\n*   **Motivation:** Playing your own game is fun! It provides immediate feedback on your progress.\n*   **Transferable Skills:** The problem-solving, debugging, and organizational skills you'll develop are valuable in any programming context.\n*   **Language Agnostic:** You can build this game in virtually any programming language. Python is often a great choice for beginners, but Java, C#, JavaScript, etc. are all perfectly viable.\n\n**Here's a suggested approach to building your text-based adventure game:**\n\n**1. Choose Your Language & Environment:**\n\n*   **Python:** (Recommended for beginners) Install Python and a simple text editor (like VS Code, Atom, Sublime Text) or an IDE (like Thonny, PyCharm Community Edition).\n*   **Java:** Install the JDK and an IDE like Eclipse or IntelliJ IDEA Community Edition.\n*   **C#:** Install the .NET SDK and an IDE like Visual Studio Community Edition.\n*   **JavaScript:** Use a code editor with HTML, CSS, and JS support, and open the HTML file in your browser.\n\n**2. Start with a Simple Outline and Core Mechanics:**\n\n*   **The Goal:** What is the player trying to achieve? (e.g., find a hidden treasure, escape a haunted house, rescue a princess).\n*   **The World:** Describe the initial location and a few adjacent locations. (e.g., \"You are standing in a dark forest. To the north is a creepy old cabin, to the east is a babbling brook, and to the south is a path leading back to town.\")\n*   **Basic Commands:**  Start with the core commands:\n    *   `look`:  Describes the current location.\n    *   `north`, `south`, `east`, `west`:  Move between locations.\n    *   `quit`:  Exits the game.\n\n**3. Implement the Core Mechanics (Example in Python):**\n\n```python\ndef display_location(location_description):\n    print(\"\\n\" + location_description)\n\n# Define your game locations (represented as dictionaries)\nlocations = {\n    \"forest\": {\n        \"description\": \"You are standing in a dark forest. To the north is a creepy old cabin, to the east is a babbling brook, and to the south is a path leading back to town.\",\n        \"north\": \"cabin\",\n        \"east\": \"brook\",\n        \"south\": \"town\"\n    },\n    \"cabin\": {\n        \"description\": \"You are in a creepy old cabin.  A rusty key lies on the table. To the south is the dark forest.\",\n        \"south\": \"forest\",\n        \"item\": \"key\"  # Add an item to this location\n    },\n    \"brook\": {\n        \"description\": \"You are standing beside a babbling brook. To the west is the dark forest.\",\n        \"west\": \"forest\"\n    },\n    \"town\": {\n        \"description\": \"You are in town. There is a general store to your left.\"\n    }\n}\n\n# Set the starting location\ncurrent_location = \"forest\"\n\n# Game loop\nwhile True:\n    display_location(locations[current_location][\"description\"])\n\n    command = input(\"What do you do? \").lower()\n\n    if command == \"quit\":\n        print(\"Thanks for playing!\")\n        break\n    elif command in [\"north\", \"south\", \"east\", \"west\"]:\n        if command in locations[current_location]:\n            current_location = locations[current_location][command]\n        else:\n            print(\"You can't go that way.\")\n    elif command == \"look\":\n        # Re-display the location description\n        pass  # (Nothing to do - already displayed at the beginning of the loop)\n    else:\n        print(\"I don't understand that command.\")\n```\n\n**4. Expand the Game with Features:**\n\n*   **Items:**\n    *   Add the ability to `get` or `take` items.\n    *   Store an inventory for the player.\n    *   Add the ability to `use` items.\n*   **Puzzles:** Create obstacles that require the player to solve puzzles using items or knowledge.\n*   **Characters (NPCs):**\n    *   Add characters that the player can talk to (`talk to <character>`).\n    *   Implement dialogue.\n    *   Add quests or tasks given by the characters.\n*   **Combat:** (Optional, if you're feeling ambitious)\n    *   Introduce enemies.\n    *   Implement basic attack and defense mechanics.\n*   **Story:**  Develop a richer storyline and compelling descriptions.\n*   **Saving/Loading:**  Implement a way to save the player's progress and load it later. (This is more advanced)\n\n**5. Break Down the Problem:**\n\nDon't try to build the entire game at once. Break it down into smaller, manageable tasks. For example:\n\n1.  Implement the basic movement commands (north, south, east, west).\n2.  Add a location with an item.\n3.  Implement the `get` command to pick up the item.\n4.  Add a puzzle that requires the item to solve.\n5.  ...and so on.\n\n**Tips for Success:**\n\n*   **Start Small:** Don't try to create an epic game right away. Focus on getting the basic mechanics working first.\n*   **Test Frequently:** Run your code often and test each new feature as you add it.\n*   **Use Comments:** Add comments to your code to explain what it does. This will help you (and others) understand your code later.\n*   **Debug Strategically:** When you encounter an error, read the error message carefully.  Use print statements to inspect the values of variables and trace the execution of your code.\n*   **Don't Be Afraid to Ask for Help:** If you get stuck, ask your teacher, classmates, or online communities (like Stack Overflow) for help.  Be sure to explain what you're trying to do and what you've already tried.\n*   **Have Fun!** Programming should be enjoyable. If you're not having fun, take a break or try a different approach.\n\n**Example Expansion - Adding Item Pickup:**\n\n```python\n# (Previous code from above)\n\n# Game state\ncurrent_location = \"forest\"\ninventory = []\n\n# Game loop\nwhile True:\n    display_location(locations[current_location][\"description\"])\n\n    command = input(\"What do you do? \").lower()\n\n    if command == \"quit\":\n        print(\"Thanks for playing!\")\n        break\n    elif command in [\"north\", \"south\", \"east\", \"west\"]:\n        if command in locations[current_location]:\n            current_location = locations[current_location][command]\n        else:\n            print(\"You can't go that way.\")\n    elif command == \"look\":\n        pass\n    elif command.startswith(\"get \"):  # Example: get key\n        item_name = command[4:]  # Extract the item name from the command\n        if \"item\" in locations[current_location] and locations[current_location][\"item\"] == item_name:\n            print(f\"You pick up the {item_name}.\")\n            inventory.append(item_name)\n            del locations[current_location][\"item\"] # Remove item from the location\n        else:\n            print(f\"There is no {item_name} here.\")\n    elif command == \"inventory\":\n        if inventory:\n            print(\"You are carrying: \" + \", \".join(inventory))\n        else:\n            print(\"You are carrying nothing.\")\n    else:\n        print(\"I don't understand that command.\")\n```\n\nThis example shows how to add the `get` command to pick up items and the `inventory` command to view the items.\n\nThis project will provide you with a solid foundation in programming concepts and problem-solving skills. Good luck, and have fun creating your adventure! Let me know if you have any more questions as you get started.\n"
          },
          "metadata": {}
        }
      ],
      "source": [
        "prompt = \"I'm a high school student. Recommend me a programming activity to improve my skills.\"\n",
        "\n",
        "response = client.models.generate_content(model=MODEL_ID, contents=prompt)\n",
        "display(Markdown(response.text))"
      ]
    },
    {
      "cell_type": "markdown",
      "metadata": {
        "id": "iAmm9wPYc_1o"
      },
      "source": [
        "#### Classification tasks reduces output variability"
      ]
    },
    {
      "cell_type": "markdown",
      "metadata": {
        "id": "VvRpK_0GdCpf"
      },
      "source": [
        "The prompt below results in a choice and may be useful if you want the output to be easier to control."
      ]
    },
    {
      "cell_type": "code",
      "execution_count": null,
      "metadata": {
        "id": "kYDKh0r2dAqo"
      },
      "outputs": [],
      "source": [
        "prompt = \"\"\"I'm a high school student. Which of these activities do you suggest and why:\n",
        "a) learn Python\n",
        "b) learn JavaScript\n",
        "c) learn Fortran\n",
        "\"\"\"\n",
        "\n",
        "response = client.models.generate_content(model=MODEL_ID, contents=prompt)\n",
        "display(Markdown(response.text))"
      ]
    },
    {
      "cell_type": "markdown",
      "metadata": {
        "id": "iTd60b1GdIsx"
      },
      "source": [
        "### Improve response quality by including examples"
      ]
    },
    {
      "cell_type": "markdown",
      "metadata": {
        "id": "yJi44NejdJYE"
      },
      "source": [
        "Another way to improve response quality is to add examples in your prompt. The LLM learns in-context from the examples on how to respond. Typically, one to five examples (shots) are enough to improve the quality of responses. Including too many examples can cause the model to over-fit the data and reduce the quality of responses.\n",
        "\n",
        "Similar to classical model training, the quality and distribution of the examples is very important. Pick examples that are representative of the scenarios that you need the model to learn, and keep the distribution of the examples (e.g. number of examples per class in the case of classification) aligned with your actual distribution."
      ]
    },
    {
      "cell_type": "markdown",
      "metadata": {
        "id": "sMbLginWdOKs"
      },
      "source": [
        "#### Zero-shot prompt"
      ]
    },
    {
      "cell_type": "markdown",
      "metadata": {
        "id": "Crh2Loi2dQ0v"
      },
      "source": [
        "Below is an example of zero-shot prompting, where you don't provide any examples to the LLM within the prompt itself."
      ]
    },
    {
      "cell_type": "code",
      "execution_count": null,
      "metadata": {
        "id": "-7myRc-SdTQ4"
      },
      "outputs": [],
      "source": [
        "prompt = \"\"\"Decide whether a Tweet's sentiment is positive, neutral, or negative.\n",
        "\n",
        "Tweet: I loved the new YouTube video you made!\n",
        "Sentiment:\n",
        "\"\"\"\n",
        "\n",
        "response = client.models.generate_content(model=MODEL_ID, contents=prompt)\n",
        "display(Markdown(response.text))"
      ]
    },
    {
      "cell_type": "markdown",
      "metadata": {
        "id": "ucRtPn9SdL64"
      },
      "source": [
        "#### One-shot prompt"
      ]
    },
    {
      "cell_type": "markdown",
      "metadata": {
        "id": "rs0gQH2vdYBi"
      },
      "source": [
        "Below is an example of one-shot prompting, where you provide one example to the LLM within the prompt to give some guidance on what type of response you want."
      ]
    },
    {
      "cell_type": "code",
      "execution_count": null,
      "metadata": {
        "id": "iEq-KxGYdaT5"
      },
      "outputs": [],
      "source": [
        "prompt = \"\"\"Decide whether a Tweet's sentiment is positive, neutral, or negative.\n",
        "\n",
        "Tweet: I loved the new YouTube video you made!\n",
        "Sentiment: positive\n",
        "\n",
        "Tweet: That was awful. Super boring 😠\n",
        "Sentiment:\n",
        "\"\"\"\n",
        "\n",
        "response = client.models.generate_content(model=MODEL_ID, contents=prompt)\n",
        "display(Markdown(response.text))"
      ]
    },
    {
      "cell_type": "markdown",
      "metadata": {
        "id": "JnKLjJzmdfL_"
      },
      "source": [
        "#### Few-shot prompt"
      ]
    },
    {
      "cell_type": "markdown",
      "metadata": {
        "id": "6Zv-9F5OdgI_"
      },
      "source": [
        "Below is an example of few-shot prompting, where you provide a few examples to the LLM within the prompt to give some guidance on what type of response you want."
      ]
    },
    {
      "cell_type": "code",
      "execution_count": null,
      "metadata": {
        "id": "u37P9tG4dk9S"
      },
      "outputs": [],
      "source": [
        "prompt = \"\"\"Decide whether a Tweet's sentiment is positive, neutral, or negative.\n",
        "\n",
        "Tweet: I loved the new YouTube video you made!\n",
        "Sentiment: positive\n",
        "\n",
        "Tweet: That was awful. Super boring 😠\n",
        "Sentiment: negative\n",
        "\n",
        "Tweet: Something surprised me about this video - it was actually original. It was not the same old recycled stuff that I always see. Watch it - you will not regret it.\n",
        "Sentiment:\n",
        "\"\"\"\n",
        "\n",
        "response = client.models.generate_content(model=MODEL_ID, contents=prompt)\n",
        "display(Markdown(response.text))"
      ]
    },
    {
      "cell_type": "markdown",
      "metadata": {
        "id": "wDMD3xb2dvX6"
      },
      "source": [
        "#### Choosing between zero-shot, one-shot, few-shot prompting methods"
      ]
    },
    {
      "cell_type": "markdown",
      "metadata": {
        "id": "s92W0YpNdxJp"
      },
      "source": [
        "Which prompt technique to use will solely depends on your goal. The zero-shot prompts are more open-ended and can give you creative answers, while one-shot and few-shot prompts teach the model how to behave so you can get more predictable answers that are consistent with the examples provided."
      ]
    }
  ],
  "metadata": {
    "colab": {
      "name": "intro_prompt_design.ipynb",
      "toc_visible": true,
      "provenance": []
    },
    "kernelspec": {
      "display_name": "Python 3",
      "name": "python3"
    }
  },
  "nbformat": 4,
  "nbformat_minor": 0
}